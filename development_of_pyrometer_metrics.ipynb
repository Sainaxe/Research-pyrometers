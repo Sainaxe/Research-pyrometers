{
 "cells": [
  {
   "cell_type": "markdown",
   "id": "fa17bd49",
   "metadata": {},
   "source": [
    "### Метрика для испытаний системы регулирования контуров расходов газа обжиговой машины"
   ]
  },
  {
   "cell_type": "markdown",
   "id": "ad592282",
   "metadata": {},
   "source": [
    "$\\sigma = \\sqrt{\\frac{(a_1-b_1)^2*(a_2-b_2)^2*...*(a_n-b_n)^2}{n}} $, где\n",
    "\n",
    "$a_n$ и $b_n$ - замеры температуры пирометрами по сторонам обжиговой машины в один момент времени n,\n",
    "\n",
    "$\\sigma$ - среднеквадратическое отклонение разницы температур (t°С)."
   ]
  },
  {
   "cell_type": "code",
   "execution_count": 1,
   "id": "2c1360c0",
   "metadata": {},
   "outputs": [],
   "source": [
    "import pandas as pd\n",
    "import numpy as np\n",
    "#import os\n",
    "import csv"
   ]
  },
  {
   "cell_type": "code",
   "execution_count": 2,
   "id": "f122771c",
   "metadata": {},
   "outputs": [
    {
     "name": "stdout",
     "output_type": "stream",
     "text": [
      "Массив t°С // Array t°С : \n",
      "       Тем-ра GL012 ValueY  Тем-ра GL011 ValueY  difference_squared\n",
      "0               101.122942           107.399463           39.394723\n",
      "1                97.027480            98.988308            3.844848\n",
      "2               104.763244           118.457555          187.534167\n",
      "3               101.309962           114.475136          173.321796\n",
      "4               103.066978           106.160360            9.569009\n",
      "...                    ...                  ...                 ...\n",
      "18119            90.092578           107.094336          289.059760\n",
      "18120            87.436422           103.871649          270.116692\n",
      "18121            85.560840           101.662035          259.248480\n",
      "18122            84.764018           103.081757          335.539575\n",
      "18123            89.596281            94.940704           28.562856\n",
      "\n",
      "[18124 rows x 3 columns]\n",
      "\n"
     ]
    }
   ],
   "source": [
    "df1 = pd.read_csv(open('data_1.csv'), encoding='windows-1251', delimiter=';', decimal=',', usecols = ['Тем-ра GL012 ValueY','Тем-ра GL011 ValueY'])\n",
    "\n",
    "df1['Тем-ра GL012 ValueY'].astype('float64')\n",
    "df1['Тем-ра GL011 ValueY'].astype('float64')\n",
    "df1['difference_squared'] = (df1['Тем-ра GL012 ValueY'] - df1['Тем-ра GL011 ValueY']) ** 2\n",
    "df1['difference_squared'].astype('float64')\n",
    "print(f\"Массив t°С // Array t°С : \\n{df1}\\n\")\n",
    "df1.to_csv('saved_df1.csv', index=False)"
   ]
  },
  {
   "cell_type": "code",
   "execution_count": 3,
   "id": "9c9194fc",
   "metadata": {},
   "outputs": [
    {
     "name": "stdout",
     "output_type": "stream",
     "text": [
      "\n",
      "Массив квадратов разницы в t°С // Array of squared differences in t°C : \n",
      "       difference_squared\n",
      "0        39.3947233952665\n",
      "1      3.8448480142465478\n",
      "2      187.53416745903218\n",
      "3      173.32179591813704\n",
      "4        9.56900910454229\n",
      "...                   ...\n",
      "18119  289.05976046905215\n",
      "18120   270.1166924582107\n",
      "18121   259.2484804280251\n",
      "18122   335.5395752608934\n",
      "18123  28.562856240932778\n",
      "\n",
      "[18124 rows x 1 columns]\n",
      "\n"
     ]
    }
   ],
   "source": [
    "#shape = df1.shape\n",
    "#print(f\"Размерность массива // Array Dimension : {shape}\")\n",
    "saved_df1 = pd.read_csv(open('saved_df1.csv'), encoding='windows-1251', delimiter=',', decimal=',', usecols = ['difference_squared'])\n",
    "saved_df1['difference_squared'].astype('float64')\n",
    "print(f\"\\nМассив квадратов разницы в t°С // Array of squared differences in t°C : \\n{saved_df1}\\n\")\n",
    "saved_df1.to_csv('prep_df1.csv', index=False)"
   ]
  },
  {
   "cell_type": "code",
   "execution_count": 4,
   "id": "5f4a47c7",
   "metadata": {},
   "outputs": [
    {
     "name": "stdout",
     "output_type": "stream",
     "text": [
      "\n",
      "Количество замеров t°С // Number of measurements t°С : 18124 шт.\n",
      "\n"
     ]
    }
   ],
   "source": [
    "filename = 'prep_df1.csv'\n",
    "with open(filename,\"r\", encoding='UTF8') as f:\n",
    "    reader = csv.reader(f,delimiter = \",\")\n",
    "    data = list(reader)\n",
    "    row_count = len(data)\n",
    "row_count = row_count - 1\n",
    "print(f\"\\nКоличество замеров t°С // Number of measurements t°С : {row_count} шт.\\n\")"
   ]
  },
  {
   "cell_type": "code",
   "execution_count": 5,
   "id": "32bd0371",
   "metadata": {},
   "outputs": [
    {
     "name": "stdout",
     "output_type": "stream",
     "text": [
      "\n",
      "Сумма квадратов разности t°С // Sum of squared difference t°С : 4476538.417464638\n",
      "\n"
     ]
    }
   ],
   "source": [
    "with open(\"prep_df1.csv\",\"r+\",encoding='windows-1251') as fin:\n",
    "    headerline = fin.readline()\n",
    "\n",
    "    sum_of_difference_squared = 0\n",
    "    value = 0\n",
    "    for row in csv.reader(fin):\n",
    "        value = float(row[0])\n",
    "        sum_of_difference_squared += value\n",
    "    print (f\"\\nСумма квадратов разности t°С // Sum of squared difference t°С : {sum_of_difference_squared}\\n\")"
   ]
  },
  {
   "cell_type": "code",
   "execution_count": 6,
   "id": "9bb82600",
   "metadata": {},
   "outputs": [
    {
     "name": "stdout",
     "output_type": "stream",
     "text": [
      "\n",
      "Среднеквадратичное разницы t°С // RMS differences of t°С : 15.71607639465355°С\n",
      "\n"
     ]
    }
   ],
   "source": [
    "rms_difference = np.sqrt(sum_of_difference_squared / row_count)\n",
    "print(f\"\\nСреднеквадратичное разницы t°С // RMS differences of t°С : {rms_difference}°С\\n\")"
   ]
  }
 ],
 "metadata": {
  "kernelspec": {
   "display_name": "Python 3 (ipykernel)",
   "language": "python",
   "name": "python3"
  },
  "language_info": {
   "codemirror_mode": {
    "name": "ipython",
    "version": 3
   },
   "file_extension": ".py",
   "mimetype": "text/x-python",
   "name": "python",
   "nbconvert_exporter": "python",
   "pygments_lexer": "ipython3",
   "version": "3.10.4"
  }
 },
 "nbformat": 4,
 "nbformat_minor": 5
}
